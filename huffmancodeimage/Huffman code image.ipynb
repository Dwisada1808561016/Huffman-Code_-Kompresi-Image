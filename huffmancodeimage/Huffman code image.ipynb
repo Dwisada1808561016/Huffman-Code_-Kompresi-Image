{
 "cells": [
  {
   "cell_type": "code",
   "execution_count": 1,
   "metadata": {},
   "outputs": [],
   "source": [
    "import cv2\n",
    "import numpy as np"
   ]
  },
  {
   "cell_type": "code",
   "execution_count": 2,
   "metadata": {},
   "outputs": [],
   "source": [
    "# Membuka gambar sample.png dengan size 8px x 8px\n",
    "im = cv2.imread('sample.png')\n",
    "\n",
    "# Mengubah dari RGB ke Grayscale\n",
    "gray = cv2.cvtColor(im, cv2.COLOR_BGR2GRAY)"
   ]
  },
  {
   "cell_type": "code",
   "execution_count": 3,
   "metadata": {},
   "outputs": [],
   "source": [
    "# mencari frekuensi setiap pixel\n",
    "unique, counts = np.unique(gray, return_counts=True)\n",
    "img_freq = dict(zip(unique, counts))\n",
    "\n",
    "# Sorting\n",
    "sort_img_freq = sorted(img_freq.items(), key=lambda x: x[1], reverse=True)\n",
    "\n",
    "#  Mengubah tipe nama pixel dari int ke string\n",
    "freq = {}\n",
    "for (char, frequency) in sort_img_freq:\n",
    "    freq[str(char)] = frequency\n",
    "\n",
    "# Sorting\n",
    "freq = sorted(freq.items(), key=lambda x: x[1], reverse=True)"
   ]
  },
  {
   "cell_type": "code",
   "execution_count": 4,
   "metadata": {
    "scrolled": true
   },
   "outputs": [],
   "source": [
    "# Membuat tree nodes pada huffman coding\n",
    "class NodeTree(object):\n",
    "\n",
    "    def __init__(self, left=None, right=None):\n",
    "        self.left = left\n",
    "        self.right = right\n",
    "\n",
    "    def children(self):\n",
    "        return (self.left, self.right)\n",
    "\n",
    "    def nodes(self):\n",
    "        return (self.left, self.right)\n",
    "\n",
    "    def __str__(self):\n",
    "        return '%s_%s' % (self.left, self.right)"
   ]
  },
  {
   "cell_type": "code",
   "execution_count": 5,
   "metadata": {},
   "outputs": [],
   "source": [
    "# Fungsi utama mengimplementasikan huffman coding\n",
    "def huffman_code_tree(node, left=True, binString=''):\n",
    "    if type(node) is str:\n",
    "        return {node: binString}\n",
    "    (l, r) = node.children()\n",
    "    d = dict()\n",
    "    d.update(huffman_code_tree(l, True, binString + '0'))\n",
    "    d.update(huffman_code_tree(r, False, binString + '1'))\n",
    "    return d"
   ]
  },
  {
   "cell_type": "code",
   "execution_count": 6,
   "metadata": {},
   "outputs": [
    {
     "name": "stdout",
     "output_type": "stream",
     "text": [
      " Char | Huffman code \n",
      "----------------------\n",
      " '95' |         111\n",
      " '128' |        0000\n",
      " '89' |       00011\n",
      " '96' |       00010\n",
      " '97' |       11001\n",
      " '98' |       11000\n",
      " '100' |       11011\n",
      " '105' |       11010\n",
      " '107' |       01101\n",
      " '113' |       01100\n",
      " '120' |       01111\n",
      " '122' |       01110\n",
      " '144' |       01001\n",
      " '86' |      001101\n",
      " '88' |      001100\n",
      " '90' |      001111\n",
      " '93' |      001110\n",
      " '106' |      001001\n",
      " '109' |      001000\n",
      " '111' |      001011\n",
      " '116' |      001010\n",
      " '118' |      100101\n",
      " '125' |      100100\n",
      " '131' |      100111\n",
      " '132' |      100110\n",
      " '146' |      100001\n",
      " '148' |      100000\n",
      " '162' |      100011\n",
      " '164' |      100010\n",
      " '175' |      101101\n",
      " '176' |      101100\n",
      " '185' |      101111\n",
      " '188' |      101110\n",
      " '205' |      101001\n",
      " '210' |      101000\n",
      " '214' |      101011\n",
      " '215' |      101010\n",
      " '218' |      010101\n",
      " '222' |      010100\n",
      " '226' |      010111\n",
      " '228' |      010110\n",
      " '234' |      010001\n",
      " '237' |      010000\n"
     ]
    }
   ],
   "source": [
    "#Proses huffman coding pada setiap pixel\n",
    "nodes = freq\n",
    "\n",
    "while len(nodes) > 1:\n",
    "    (key1, c1) = nodes[-1]\n",
    "    (key2, c2) = nodes[-2]\n",
    "    nodes = nodes[:-2]\n",
    "    node = NodeTree(key1, key2)\n",
    "    nodes.append((node, c1 + c2))\n",
    "\n",
    "    nodes = sorted(nodes, key=lambda x: x[1], reverse=True)\n",
    "\n",
    "huffmanCode = huffman_code_tree(nodes[0][0])\n",
    "\n",
    "print(' Char | Huffman code ')\n",
    "print('----------------------')\n",
    "for (char, frequency) in freq:\n",
    "    print(' %-4r |%12s' % (char, huffmanCode[char]))"
   ]
  },
  {
   "cell_type": "code",
   "execution_count": null,
   "metadata": {},
   "outputs": [],
   "source": []
  }
 ],
 "metadata": {
  "kernelspec": {
   "display_name": "Python 3",
   "language": "python",
   "name": "python3"
  },
  "language_info": {
   "codemirror_mode": {
    "name": "ipython",
    "version": 3
   },
   "file_extension": ".py",
   "mimetype": "text/x-python",
   "name": "python",
   "nbconvert_exporter": "python",
   "pygments_lexer": "ipython3",
   "version": "3.8.5"
  }
 },
 "nbformat": 4,
 "nbformat_minor": 4
}
